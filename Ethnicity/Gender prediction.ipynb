{
 "cells": [
  {
   "cell_type": "markdown",
   "id": "9624a679",
   "metadata": {},
   "source": [
    "**Classification By gender**"
   ]
  },
  {
   "cell_type": "markdown",
   "id": "ac45c040",
   "metadata": {},
   "source": [
    "Dans cette partie, nous allons s'intéresser à la prédiction de sexe de la personne à partir des Deep features calculées par le modèle FaceNet pré-entrainé. \n",
    "Dans un premier instant, on va essayer de voir les performances d'un classifier simple : par exemple un SVM et ensuite trouver des méthodes qui permettent d'améliorer la précision de la prédiction du genre du personne."
   ]
  },
  {
   "cell_type": "code",
   "execution_count": 1,
   "id": "977dfd79",
   "metadata": {},
   "outputs": [],
   "source": [
    "# importation des bibliotheques\n",
    "import numpy as np   \n",
    "import pandas as pd   \n",
    "import matplotlib.pyplot as plt\n",
    "from sklearn.metrics import confusion_matrix, classification_report\n",
    "from sklearn.model_selection import train_test_split, GridSearchCV\n",
    "\n",
    "from time import time\n",
    "\n",
    "from sklearn.svm import SVC\n",
    "from sklearn.neighbors import KNeighborsClassifier\n",
    "\n",
    "import seaborn as sns"
   ]
  },
  {
   "cell_type": "code",
   "execution_count": 2,
   "id": "7d7538ce",
   "metadata": {},
   "outputs": [],
   "source": [
    "def plot_confusion_matrix(cm,\n",
    "                          target_names,\n",
    "                          title='Confusion matrix',\n",
    "                          cmap=None,\n",
    "                          normalize=False):\n",
    "    \"\"\"\n",
    "    given a sklearn confusion matrix (cm), make a nice plot\n",
    "\n",
    "    Arguments\n",
    "    ---------\n",
    "    cm:           confusion matrix from sklearn.metrics.confusion_matrix\n",
    "\n",
    "    target_names: given classification classes such as [0, 1, 2]\n",
    "                  the class names, for example: ['high', 'medium', 'low']\n",
    "\n",
    "    title:        the text to display at the top of the matrix\n",
    "\n",
    "    cmap:         the gradient of the values displayed from matplotlib.pyplot.cm\n",
    "                  see http://matplotlib.org/examples/color/colormaps_reference.html\n",
    "                  plt.get_cmap('jet') or plt.cm.Blues\n",
    "\n",
    "    normalize:    If False, plot the raw numbers\n",
    "                  If True, plot the proportions\n",
    "\n",
    "    Usage\n",
    "    -----\n",
    "    plot_confusion_matrix(cm           = cm,                  # confusion matrix created by\n",
    "                                                              # sklearn.metrics.confusion_matrix\n",
    "                          normalize    = True,                # show proportions\n",
    "                          target_names = y_labels_vals,       # list of names of the classes\n",
    "                          title        = best_estimator_name) # title of graph\n",
    "\n",
    "    Citiation\n",
    "    ---------\n",
    "    http://scikit-learn.org/stable/auto_examples/model_selection/plot_confusion_matrix.html\n",
    "\n",
    "    \"\"\"\n",
    "    import matplotlib.pyplot as plt\n",
    "    import numpy as np\n",
    "    import itertools\n",
    "\n",
    "    accuracy = np.trace(cm) / np.sum(cm).astype('float')\n",
    "    misclass = 1 - accuracy\n",
    "\n",
    "    if cmap is None:\n",
    "        cmap = plt.get_cmap('Blues')\n",
    "\n",
    "    plt.figure(figsize=(8, 6))\n",
    "    plt.imshow(cm, interpolation='nearest', cmap=cmap)\n",
    "    plt.title(title)\n",
    "    plt.colorbar()\n",
    "\n",
    "    if target_names is not None:\n",
    "        tick_marks = np.arange(len(target_names))\n",
    "        plt.xticks(tick_marks, target_names, rotation=45)\n",
    "        plt.yticks(tick_marks, target_names)\n",
    "\n",
    "    if normalize:\n",
    "        cm = cm.astype('float') / cm.sum(axis=1)[:, np.newaxis]\n",
    "\n",
    "\n",
    "    thresh = cm.max() / 1.5 if normalize else cm.max() / 2\n",
    "    for i, j in itertools.product(range(cm.shape[0]), range(cm.shape[1])):\n",
    "        if normalize:\n",
    "            plt.text(j, i, \"{:0.4f}\".format(cm[i, j]),\n",
    "                     horizontalalignment=\"center\",\n",
    "                     color=\"white\" if cm[i, j] > thresh else \"black\")\n",
    "        else:\n",
    "            plt.text(j, i, \"{:,}\".format(cm[i, j]),\n",
    "                     horizontalalignment=\"center\",\n",
    "                     color=\"white\" if cm[i, j] > thresh else \"black\")\n",
    "\n",
    "\n",
    "    plt.tight_layout()\n",
    "    plt.ylabel('True label')\n",
    "    plt.xlabel('Predicted label\\naccuracy={:0.4f}; misclass={:0.4f}'.format(accuracy, misclass))\n",
    "    plt.show()"
   ]
  },
  {
   "cell_type": "code",
   "execution_count": 16,
   "id": "f8ac613a",
   "metadata": {},
   "outputs": [
    {
     "name": "stdout",
     "output_type": "stream",
     "text": [
      "<class 'pandas.core.frame.DataFrame'>\n",
      "RangeIndex: 23705 entries, 0 to 23704\n",
      "Data columns (total 5 columns):\n",
      " #   Column     Non-Null Count  Dtype \n",
      "---  ------     --------------  ----- \n",
      " 0   age        23705 non-null  int64 \n",
      " 1   ethnicity  23705 non-null  int64 \n",
      " 2   gender     23705 non-null  int64 \n",
      " 3   img_name   23705 non-null  object\n",
      " 4   pixels     23705 non-null  object\n",
      "dtypes: int64(3), object(2)\n",
      "memory usage: 926.1+ KB\n"
     ]
    }
   ],
   "source": [
    "# describition du tableau\n",
    "df = pd.read_csv(\"age_gender.csv\")\n",
    "df['pixels'] = df.apply(lambda row:   list(map(int, row['pixels'].split(' '))) , axis=1)\n",
    "df.info()"
   ]
  },
  {
   "cell_type": "code",
   "execution_count": 18,
   "id": "8f37802e",
   "metadata": {},
   "outputs": [],
   "source": [
    "### charger les matrices de données (Deep features) : X et label : y\n",
    "X = np.vstack(df['pixels'].values)\n",
    "#X = pd.read_csv('features.csv', sep=',')\n",
    "#X = np.load('features.npz')[\"X\"]\n",
    "eth = df.ethnicity.values\n",
    "y = df.gender.values\n",
    "del df # supprimer le Dataframe du fichier csv"
   ]
  },
  {
   "cell_type": "code",
   "execution_count": 19,
   "id": "e3393a47",
   "metadata": {},
   "outputs": [],
   "source": [
    "name_gender = ['Male', 'Female']"
   ]
  },
  {
   "cell_type": "code",
   "execution_count": 20,
   "id": "c9439430",
   "metadata": {},
   "outputs": [
    {
     "name": "stdout",
     "output_type": "stream",
     "text": [
      "taille de X : (23705, 2304)\n",
      "taille de y : (23705,)\n"
     ]
    }
   ],
   "source": [
    "# affichage les dimensions des matrices de X et y\n",
    "print(\"taille de X :\", X.shape)\n",
    "print(\"taille de y :\", y.shape)"
   ]
  },
  {
   "cell_type": "code",
   "execution_count": 22,
   "id": "82db579d",
   "metadata": {},
   "outputs": [
    {
     "name": "stdout",
     "output_type": "stream",
     "text": [
      "taille de X : (4526, 2304)\n",
      "taille de y : (4526,)\n"
     ]
    }
   ],
   "source": [
    "print(\"taille de X :\", X[eth==1].shape)\n",
    "print(\"taille de y :\", y[eth==1].shape)"
   ]
  },
  {
   "cell_type": "code",
   "execution_count": 7,
   "id": "210c30f6",
   "metadata": {},
   "outputs": [],
   "source": [
    "normalised = False\n",
    "if normalised:\n",
    "    X = X / 225"
   ]
  },
  {
   "cell_type": "code",
   "execution_count": 64,
   "id": "6afafca6",
   "metadata": {},
   "outputs": [],
   "source": [
    "# preparation des deux ensembles de train (67%) et de test (33%)\n",
    "eth_ind = 4\n",
    "X_train, X_test, y_train, y_test = train_test_split( X[eth==eth_ind], y[eth==eth_ind], test_size=0.333,\n",
    "                                                    random_state=42, stratify = y[eth==eth_ind])"
   ]
  },
  {
   "cell_type": "markdown",
   "id": "422dc1e6",
   "metadata": {},
   "source": [
    "les métriques utilisées pour l'évaluation des performances du modèles sont : \n",
    "- la sensibilité ou [précision](https://fr.wikipedia.org/wiki/Pr%C3%A9cision_et_rappel) \n",
    "- la spécificité ou [recall](https://en.wikipedia.org/wiki/Precision_and_recall#Recall)\n",
    "- l'accuracy\n",
    "- AUC (Aera Under Curve)"
   ]
  },
  {
   "cell_type": "code",
   "execution_count": 65,
   "id": "5d47ac90",
   "metadata": {},
   "outputs": [],
   "source": [
    "def sensibility(clf, X, y):\n",
    "    y_pred = clf.predict(X)\n",
    "    cm = confusion_matrix(y, y_pred)\n",
    "    tn = cm[0, 0]\n",
    "    fp = cm[0, 1] \n",
    "    fn = cm[1, 0] \n",
    "    tp = cm[1, 1]\n",
    "\n",
    "    return tp/(tp+fn)\n",
    "\n",
    "def specificity(clf, X, y):\n",
    "    y_pred = clf.predict(X)\n",
    "    cm = confusion_matrix(y, y_pred)\n",
    "    tn = cm[0, 0]\n",
    "    fp = cm[0, 1] \n",
    "    fn = cm[1, 0] \n",
    "    tp = cm[1, 1]\n",
    "\n",
    "    return tn/(tn+fp)"
   ]
  },
  {
   "cell_type": "markdown",
   "id": "c6b97b3b",
   "metadata": {},
   "source": [
    "**evaluation des performances**"
   ]
  },
  {
   "cell_type": "code",
   "execution_count": 66,
   "id": "0a1b2d31",
   "metadata": {},
   "outputs": [],
   "source": [
    "#clf = SVC(C= 1000, gamma = 0.1, kernel='rbf', class_weight='balanced')\n",
    "clf = KNeighborsClassifier(n_neighbors=15)"
   ]
  },
  {
   "cell_type": "code",
   "execution_count": 67,
   "id": "08dabe95",
   "metadata": {},
   "outputs": [
    {
     "name": "stdout",
     "output_type": "stream",
     "text": [
      ">> Train : done in 0min 0s\n",
      ">> Test  : done in 0min 0s\n"
     ]
    }
   ],
   "source": [
    "t0 = time()\n",
    "clf.fit(X_train, y_train)\n",
    "print(\">> Train : done in %dmin %ds\" % ((time() - t0)//60 ,(time() - t0)%60  ))\n",
    "\n",
    "t0 = time()\n",
    "y_pred = clf.predict(X_test)\n",
    "print(\">> Test  : done in %dmin %ds\" % ((time() - t0)//60 ,(time() - t0)%60  ))"
   ]
  },
  {
   "cell_type": "code",
   "execution_count": 68,
   "id": "e0dd8728",
   "metadata": {},
   "outputs": [
    {
     "name": "stdout",
     "output_type": "stream",
     "text": [
      "              precision    recall  f1-score   support\n",
      "\n",
      "           0       0.71      0.69      0.70       253\n",
      "           1       0.76      0.77      0.77       311\n",
      "\n",
      "    accuracy                           0.74       564\n",
      "   macro avg       0.73      0.73      0.73       564\n",
      "weighted avg       0.74      0.74      0.74       564\n",
      "\n"
     ]
    },
    {
     "data": {
      "image/png": "[encoded data removed]",
      "text/plain": [
       "<Figure size 576x432 with 2 Axes>"
      ]
     },
     "metadata": {
      "needs_background": "light"
     },
     "output_type": "display_data"
    }
   ],
   "source": [
    "print(classification_report(y_test, y_pred))\n",
    "cm = confusion_matrix(y_test, y_pred)\n",
    "plot_confusion_matrix(cm,name_gender,title='Confusion matrix')\n",
    "#sns.heatmap(cm, annot=True, fmt='d')"
   ]
  },
  {
   "cell_type": "markdown",
   "id": "5f00a8c7",
   "metadata": {},
   "source": [
    "**Visualisation des images malclassifiées**"
   ]
  },
  {
   "cell_type": "code",
   "execution_count": 69,
   "id": "2c32cc0c",
   "metadata": {},
   "outputs": [],
   "source": [
    "import random\n",
    "import cv2"
   ]
  },
  {
   "cell_type": "code",
   "execution_count": 75,
   "id": "0315e968",
   "metadata": {},
   "outputs": [
    {
     "data": {
      "text/plain": [
       "<matplotlib.image.AxesImage at 0x2789fc65388>"
      ]
     },
     "execution_count": 75,
     "metadata": {},
     "output_type": "execute_result"
    },
    {
     "data": {
      "image/png": "[encoded data removed]",
      "text/plain": [
       "<Figure size 432x288 with 1 Axes>"
      ]
     },
     "metadata": {
      "needs_background": "light"
     },
     "output_type": "display_data"
    }
   ],
   "source": [
    "idx = np.where(y_test != y_pred)[0]\n",
    "i = random.randint(0,len(idx))\n",
    "\n",
    "n = 48\n",
    "\n",
    "img = X_test[i]\n",
    "img = img.reshape(n, -1)\n",
    "#x = cv2.resize(img, dsize=(140, 140), interpolation=cv2.INTER_CUBIC)\n",
    "x = img.reshape(1,img.shape[0],img.shape[1],1)\n",
    "img_3C = np.repeat(x, 3, -1)[0]\n",
    "\n",
    "# plotting the image\n",
    "plt.title(\"true label : \"+name_gender[y_test[i]])\n",
    "plt.imshow(img_3C, interpolation='nearest')"
   ]
  },
  {
   "cell_type": "code",
   "execution_count": null,
   "id": "f150e6f0",
   "metadata": {},
   "outputs": [],
   "source": []
  },
  {
   "cell_type": "code",
   "execution_count": null,
   "id": "af89655b",
   "metadata": {},
   "outputs": [],
   "source": []
  },
  {
   "cell_type": "markdown",
   "id": "906dd874",
   "metadata": {},
   "source": [
    "**Optimisation des performances : Grid search**"
   ]
  },
  {
   "cell_type": "markdown",
   "id": "29217b64",
   "metadata": {},
   "source": [
    "Ensuite, on va evaluer les performances du modèle sans faire un grid search vu que pour 2 Validation croisées ça prend plus de 18min 18s d'apprentissage. "
   ]
  },
  {
   "cell_type": "code",
   "execution_count": 71,
   "id": "bc4ec067",
   "metadata": {},
   "outputs": [
    {
     "ename": "AssertionError",
     "evalue": "We should stop here !",
     "output_type": "error",
     "traceback": [
      "\u001b[1;31m---------------------------------------------------------------------------\u001b[0m",
      "\u001b[1;31mAssertionError\u001b[0m                            Traceback (most recent call last)",
      "\u001b[1;32m~\\AppData\\Local\\Temp/ipykernel_4740/1516369552.py\u001b[0m in \u001b[0;36m<module>\u001b[1;34m\u001b[0m\n\u001b[0;32m      1\u001b[0m \u001b[0mpassez\u001b[0m \u001b[1;33m=\u001b[0m \u001b[1;34m'Non'\u001b[0m\u001b[1;33m\u001b[0m\u001b[1;33m\u001b[0m\u001b[0m\n\u001b[1;32m----> 2\u001b[1;33m \u001b[1;32massert\u001b[0m \u001b[0mpassez\u001b[0m \u001b[1;33m!=\u001b[0m \u001b[1;34m'Non'\u001b[0m\u001b[1;33m,\u001b[0m \u001b[1;34m'We should stop here !'\u001b[0m\u001b[1;33m\u001b[0m\u001b[1;33m\u001b[0m\u001b[0m\n\u001b[0m",
      "\u001b[1;31mAssertionError\u001b[0m: We should stop here !"
     ]
    }
   ],
   "source": [
    "passez = 'Non'\n",
    "assert passez != 'Non', 'We should stop here !'"
   ]
  },
  {
   "cell_type": "code",
   "execution_count": null,
   "id": "ba63bb7c",
   "metadata": {},
   "outputs": [],
   "source": [
    "#Knearest neighbors \n",
    "print(\"Fitting the classifier to the training set\")\n",
    "t0 = time()\n",
    "\n",
    "param_grid = {'n_neighbors': [2,3,4,5,6,7,8,9,10]}\n",
    "\n",
    "scoring = {'AUC': 'roc_auc', 'score': 'accuracy',\n",
    "           'sensib' : sensibility, 'spec' : specificity}\n",
    "\n",
    "clf = GridSearchCV(\n",
    "    KNeighborsClassifier(), param_grid,\n",
    "    cv=3, scoring=scoring, refit='AUC', return_train_score=True\n",
    ")\n",
    "clf = clf.fit(X_train, y_train)\n",
    "\n",
    "\n",
    "print(\"done in %dmin %ds\" % ((time() - t0)//60 ,(time() - t0)%60  ))\n",
    "\n",
    "print(\"Best estimator found by grid search:\")\n",
    "print(clf.best_estimator_)"
   ]
  },
  {
   "cell_type": "markdown",
   "id": "84c6f168",
   "metadata": {},
   "source": [
    "les résultats : l'accuracy est de 70%, un score pas très motivant ! "
   ]
  },
  {
   "cell_type": "code",
   "execution_count": null,
   "id": "4118bb2f",
   "metadata": {},
   "outputs": [],
   "source": [
    "t0 = time()\n",
    "y_pred = clf.predict(X_test)\n",
    "print(\"done in %dmin %ds\" % ((time() - t0)//60 ,(time() - t0)%60  ))\n",
    "\n",
    "print(classification_report(y_test, y_pred))\n",
    "cm = confusion_matrix(y_test, y_pred, labels=range(2))\n",
    "\n",
    "sns.heatmap(cm, annot=True, fmt='d')"
   ]
  },
  {
   "cell_type": "code",
   "execution_count": null,
   "id": "001b9ddd",
   "metadata": {},
   "outputs": [],
   "source": [
    "clf.scoring"
   ]
  }
 ],
 "metadata": {
  "kernelspec": {
   "display_name": "Python 3 (ipykernel)",
   "language": "python",
   "name": "python3"
  },
  "language_info": {
   "codemirror_mode": {
    "name": "ipython",
    "version": 3
   },
   "file_extension": ".py",
   "mimetype": "text/x-python",
   "name": "python",
   "nbconvert_exporter": "python",
   "pygments_lexer": "ipython3",
   "version": "3.7.11"
  }
 },
 "nbformat": 4,
 "nbformat_minor": 5
}
