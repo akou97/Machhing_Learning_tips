{
 "cells": [
  {
   "cell_type": "markdown",
   "id": "9624a679",
   "metadata": {},
   "source": [
    "**Classification By Sex**"
   ]
  },
  {
   "cell_type": "markdown",
   "id": "ac45c040",
   "metadata": {},
   "source": [
    "Dans cette partie, nous allons s'intéresser à la prédiction de sexe de la personne à partir des Deep features calculées par le modèle FaceNet pré-entrainé. \n",
    "Dans un premier instant, on va essayer de voir les performances d'un classifier simple : par exemple un SVM et ensuite trouver des méthodes qui permettent d'améliorer la précision de la prédiction du genre du personne."
   ]
  },
  {
   "cell_type": "code",
   "execution_count": 1,
   "id": "977dfd79",
   "metadata": {},
   "outputs": [],
   "source": [
    "# importation des bibliotheques\n",
    "import numpy as np   \n",
    "import pandas as pd   \n",
    "from sklearn.metrics import confusion_matrix, classification_report\n",
    "from sklearn.model_selection import train_test_split, GridSearchCV\n",
    "from time import time\n",
    "from sklearn.svm import SVC\n",
    "import seaborn as sns"
   ]
  },
  {
   "cell_type": "code",
   "execution_count": 2,
   "id": "f8ac613a",
   "metadata": {},
   "outputs": [
    {
     "name": "stdout",
     "output_type": "stream",
     "text": [
      "<class 'pandas.core.frame.DataFrame'>\n",
      "RangeIndex: 23705 entries, 0 to 23704\n",
      "Data columns (total 5 columns):\n",
      " #   Column     Non-Null Count  Dtype \n",
      "---  ------     --------------  ----- \n",
      " 0   age        23705 non-null  int64 \n",
      " 1   ethnicity  23705 non-null  int64 \n",
      " 2   gender     23705 non-null  int64 \n",
      " 3   img_name   23705 non-null  object\n",
      " 4   pixels     23705 non-null  object\n",
      "dtypes: int64(3), object(2)\n",
      "memory usage: 926.1+ KB\n"
     ]
    }
   ],
   "source": [
    "# describition du tableau\n",
    "df = pd.read_csv(\"age_gender.csv\")\n",
    "df.info()"
   ]
  },
  {
   "cell_type": "code",
   "execution_count": null,
   "id": "30918c7c",
   "metadata": {},
   "outputs": [],
   "source": [
    "# charger les matrices de données (Deep features) : X et label : y\n",
    "#X = np.load('features.npz')['arr_0']\n",
    "X = pd.read_csv('features.csv', sep=',')\n",
    "y = df.gender.values\n",
    "del df # supprimer le Dataframe du fichier csv"
   ]
  },
  {
   "cell_type": "code",
   "execution_count": 5,
   "id": "c9439430",
   "metadata": {},
   "outputs": [
    {
     "data": {
      "text/plain": [
       "(23705, 1792)"
      ]
     },
     "execution_count": 5,
     "metadata": {},
     "output_type": "execute_result"
    }
   ],
   "source": [
    "# affichage les dimensions des matrices de X et y\n",
    "print(\"taille de X :\", X.shape)\n",
    "print(\"taille de y :\", y.shape)"
   ]
  },
  {
   "cell_type": "code",
   "execution_count": 7,
   "id": "6afafca6",
   "metadata": {},
   "outputs": [],
   "source": [
    "# preparation des deux ensembles de train (67%) et de test (33%)\n",
    "X_train, X_test, y_train, y_test = train_test_split( X, y, test_size=0.333,\n",
    "                                                    random_state=42, stratify = y)"
   ]
  },
  {
   "cell_type": "markdown",
   "id": "422dc1e6",
   "metadata": {},
   "source": [
    "les métriques utilisées pour l'évaluation des performances du modèles sont : \n",
    "- la sensibilité ou [précision](https://fr.wikipedia.org/wiki/Pr%C3%A9cision_et_rappel) \n",
    "- la spécificité ou [recall](https://en.wikipedia.org/wiki/Precision_and_recall#Recall)\n",
    "- l'accuracy\n",
    "- AUC (Aera Under Curve)"
   ]
  },
  {
   "cell_type": "code",
   "execution_count": 8,
   "id": "5d47ac90",
   "metadata": {},
   "outputs": [],
   "source": [
    "def sensibility(clf, X, y):\n",
    "    y_pred = clf.predict(X)\n",
    "    cm = confusion_matrix(y, y_pred)\n",
    "    tn = cm[0, 0]\n",
    "    fp = cm[0, 1] \n",
    "    fn = cm[1, 0] \n",
    "    tp = cm[1, 1]\n",
    "\n",
    "    return tp/(tp+fn)\n",
    "\n",
    "def specificity(clf, X, y):\n",
    "    y_pred = clf.predict(X)\n",
    "    cm = confusion_matrix(y, y_pred)\n",
    "    tn = cm[0, 0]\n",
    "    fp = cm[0, 1] \n",
    "    fn = cm[1, 0] \n",
    "    tp = cm[1, 1]\n",
    "\n",
    "    return tn/(tn+fp)"
   ]
  },
  {
   "cell_type": "markdown",
   "id": "c6b97b3b",
   "metadata": {},
   "source": [
    "Ensuite, on va evaluer les performances du modèle sans faire un grid search vu que pour 2 Validation croisées ça prend plus de 50min d'apprentissage. "
   ]
  },
  {
   "cell_type": "code",
   "execution_count": 9,
   "id": "ba63bb7c",
   "metadata": {},
   "outputs": [
    {
     "name": "stdout",
     "output_type": "stream",
     "text": [
      "Fitting the classifier to the training set\n",
      "done in 55min 28s\n",
      "Best estimator found by grid search:\n",
      "SVC(C=100, class_weight='balanced', gamma=0.0001)\n"
     ]
    }
   ],
   "source": [
    "#SVM\n",
    "print(\"Fitting the classifier to the training set\")\n",
    "t0 = time()\n",
    "\n",
    "param_grid = {'C': [100 ],#, 1e2 ,1e3, 5e3,1e4, 5e3, 1e4, 5e4, 1e5\n",
    "              'gamma': [0.0001], #, 0.0005, 0.001, 0.005, 0.01\n",
    "              'kernel' : ['rbf'],}\n",
    "\n",
    "scoring = {'AUC': 'roc_auc', 'score': 'accuracy',\n",
    "           'sensib' : sensibility, 'spec' : specificity}\n",
    "\n",
    "clf = GridSearchCV(\n",
    "    SVC(class_weight='balanced'), param_grid,\n",
    "    cv=2, scoring=scoring, refit='AUC', return_train_score=True\n",
    ")\n",
    "clf = clf.fit(X_train, y_train)\n",
    "\n",
    "\n",
    "print(\"done in %dmin %ds\" % ((time() - t0)//60 ,(time() - t0)%60  ))\n",
    "\n",
    "print(\"Best estimator found by grid search:\")\n",
    "print(clf.best_estimator_)"
   ]
  },
  {
   "cell_type": "markdown",
   "id": "84c6f168",
   "metadata": {},
   "source": [
    "les résultats : l'accuracy est de 70%, un score pas très motivant ! "
   ]
  },
  {
   "cell_type": "code",
   "execution_count": 10,
   "id": "4118bb2f",
   "metadata": {},
   "outputs": [
    {
     "name": "stdout",
     "output_type": "stream",
     "text": [
      "done in 2min 57s\n",
      "              precision    recall  f1-score   support\n",
      "\n",
      "           0       0.69      0.76      0.72      4126\n",
      "           1       0.70      0.63      0.66      3768\n",
      "\n",
      "    accuracy                           0.70      7894\n",
      "   macro avg       0.70      0.69      0.69      7894\n",
      "weighted avg       0.70      0.70      0.69      7894\n",
      "\n"
     ]
    },
    {
     "data": {
      "text/plain": [
       "<matplotlib.axes._subplots.AxesSubplot at 0x253ff2e0188>"
      ]
     },
     "execution_count": 10,
     "metadata": {},
     "output_type": "execute_result"
    },
    {
     "data": {
      "image/png": "[encoded data removed]",
      "text/plain": [
       "<Figure size 432x288 with 2 Axes>"
      ]
     },
     "metadata": {
      "needs_background": "light"
     },
     "output_type": "display_data"
    }
   ],
   "source": [
    "t0 = time()\n",
    "y_pred = clf.predict(X_test)\n",
    "print(\"done in %dmin %ds\" % ((time() - t0)//60 ,(time() - t0)%60  ))\n",
    "\n",
    "print(classification_report(y_test, y_pred))\n",
    "cm = confusion_matrix(y_test, y_pred, labels=range(2))\n",
    "\n",
    "sns.heatmap(cm, annot=True, fmt='d')"
   ]
  }
 ],
 "metadata": {
  "kernelspec": {
   "display_name": "Python 3 (ipykernel)",
   "language": "python",
   "name": "python3"
  },
  "language_info": {
   "codemirror_mode": {
    "name": "ipython",
    "version": 3
   },
   "file_extension": ".py",
   "mimetype": "text/x-python",
   "name": "python",
   "nbconvert_exporter": "python",
   "pygments_lexer": "ipython3",
   "version": "3.7.11"
  }
 },
 "nbformat": 4,
 "nbformat_minor": 5
}
