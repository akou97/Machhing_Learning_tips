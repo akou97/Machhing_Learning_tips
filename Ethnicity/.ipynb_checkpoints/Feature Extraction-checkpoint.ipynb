{
 "cells": [
  {
   "cell_type": "markdown",
   "id": "c8646bb2",
   "metadata": {},
   "source": [
    "charger les bibliothèques qu'on va l'utiliser"
   ]
  },
  {
   "cell_type": "code",
   "execution_count": null,
   "id": "e2c1f813",
   "metadata": {},
   "outputs": [],
   "source": [
    "%matplotlib inline\n",
    "import pandas as pd\n",
    "import numpy as np\n",
    "import matplotlib.pyplot as plt\n",
    "import cv2"
   ]
  },
  {
   "cell_type": "markdown",
   "id": "1a2b9941",
   "metadata": {},
   "source": [
    "charger la base de données qui contient pour rappeler 5 colonnes représentant : l'age, le sexe, la race de la personne plus l'id de fichier de l'image ainsi le vecteur de pixels"
   ]
  },
  {
   "cell_type": "code",
   "execution_count": null,
   "id": "5254657b",
   "metadata": {},
   "outputs": [],
   "source": [
    "df = pd.read_csv(\"age_gender.csv\")\n",
    "df['pixels'] = df.apply(lambda row:   list(map(int, row['pixels'].split(' '))) , axis=1)\n",
    "df.describe()"
   ]
  },
  {
   "cell_type": "markdown",
   "id": "fe3a20b4",
   "metadata": {},
   "source": [
    "préparation de la matrice de données : ici la matrice X contient les vecteurs de pixels de taille (1, 2304) sachant qu'on a 23705 individus"
   ]
  },
  {
   "cell_type": "code",
   "execution_count": null,
   "id": "df59f9f8",
   "metadata": {},
   "outputs": [],
   "source": [
    "X = np.vstack(df['pixels'].values)\n",
    "print(\"Shape dataset :\", X.shape)"
   ]
  },
  {
   "cell_type": "markdown",
   "id": "dbeabcb6",
   "metadata": {},
   "source": [
    "nom des labels"
   ]
  },
  {
   "cell_type": "code",
   "execution_count": null,
   "id": "e40c13ef",
   "metadata": {},
   "outputs": [],
   "source": [
    "name_gender = ['Male', 'Female']\n",
    "name_ethnicity = ['Europeen', 'African', 'East-Asian', 'Indian', 'Latino']"
   ]
  },
  {
   "cell_type": "markdown",
   "id": "deaffef4",
   "metadata": {},
   "source": [
    "preparation des données : normalisation des vecteurs X"
   ]
  },
  {
   "cell_type": "code",
   "execution_count": null,
   "id": "68c4dae3",
   "metadata": {},
   "outputs": [],
   "source": [
    "X = X /225"
   ]
  },
  {
   "cell_type": "markdown",
   "id": "fde70953",
   "metadata": {},
   "source": [
    "Transfert Learning : \n",
    "**TODO** \n",
    "- description de model Facenet\n",
    "- prk ce model\n"
   ]
  },
  {
   "cell_type": "code",
   "execution_count": null,
   "id": "72cd5dc2",
   "metadata": {},
   "outputs": [],
   "source": [
    "# example of loading the keras facenet model\n",
    "from keras.models import load_model, Model\n",
    "# load the model\n",
    "model = load_model('facenet_keras.h5')\n",
    "# summarize input and output shape\n",
    "model.summary()"
   ]
  },
  {
   "cell_type": "code",
   "execution_count": null,
   "id": "e54728f3",
   "metadata": {},
   "outputs": [],
   "source": [
    "def compute_features(model, x):\n",
    "    # reshape\n",
    "    t = X[0].reshape(n, n)\n",
    "    # resize\n",
    "    x = cv2.resize(x, dsize=(140, 140), interpolation=cv2.INTER_CUBIC)\n",
    "    # reshape\n",
    "    x = x.reshape(1,x.shape[0],x.shape[1],1)\n",
    "    # add 3 channels\n",
    "    x = np.repeat(x, 3, -1)\n",
    "    #compute features\n",
    "    features = model.predict(x)\n",
    "    return features"
   ]
  },
  {
   "cell_type": "code",
   "execution_count": null,
   "id": "b5a25a6f",
   "metadata": {},
   "outputs": [],
   "source": [
    "couche = 'Bottleneck_BatchNorm'\n",
    "Extractor = Model(inputs = model.input, outputs = model.get_layer(couche).output)"
   ]
  },
  {
   "cell_type": "code",
   "execution_count": null,
   "id": "4bb85dab",
   "metadata": {},
   "outputs": [],
   "source": [
    "feat = [compute_features(Extractor, x)[0] for x in X]"
   ]
  }
 ],
 "metadata": {
  "kernelspec": {
   "display_name": "Python 3 (ipykernel)",
   "language": "python",
   "name": "python3"
  },
  "language_info": {
   "codemirror_mode": {
    "name": "ipython",
    "version": 3
   },
   "file_extension": ".py",
   "mimetype": "text/x-python",
   "name": "python",
   "nbconvert_exporter": "python",
   "pygments_lexer": "ipython3",
   "version": "3.7.11"
  }
 },
 "nbformat": 4,
 "nbformat_minor": 5
}
