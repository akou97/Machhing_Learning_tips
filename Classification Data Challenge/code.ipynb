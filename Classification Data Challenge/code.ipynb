{
 "cells": [
  {
   "cell_type": "markdown",
   "id": "9b073069",
   "metadata": {},
   "source": [
    "## Challenge \n",
    "[Click here pour plus de détails](https://www.kaggle.com/c/classification-data-challenge/data)"
   ]
  },
  {
   "cell_type": "code",
   "execution_count": 40,
   "id": "4be59a2a",
   "metadata": {},
   "outputs": [],
   "source": [
    "# import libs\n",
    "import numpy as np\n",
    "import pandas as pd\n",
    "from zipfile import ZipFile\n",
    "import matplotlib.pyplot as plt"
   ]
  },
  {
   "cell_type": "code",
   "execution_count": 41,
   "id": "d23633dc",
   "metadata": {},
   "outputs": [],
   "source": [
    "# extract data\n",
    "#data = ZipFile(\"dataset.zip\")\n",
    "#data.extractall()"
   ]
  },
  {
   "cell_type": "code",
   "execution_count": 42,
   "id": "70c95336",
   "metadata": {},
   "outputs": [
    {
     "data": {
      "text/html": [
       "<div>\n",
       "<style scoped>\n",
       "    .dataframe tbody tr th:only-of-type {\n",
       "        vertical-align: middle;\n",
       "    }\n",
       "\n",
       "    .dataframe tbody tr th {\n",
       "        vertical-align: top;\n",
       "    }\n",
       "\n",
       "    .dataframe thead th {\n",
       "        text-align: right;\n",
       "    }\n",
       "</style>\n",
       "<table border=\"1\" class=\"dataframe\">\n",
       "  <thead>\n",
       "    <tr style=\"text-align: right;\">\n",
       "      <th></th>\n",
       "      <th>Id</th>\n",
       "      <th>V2</th>\n",
       "      <th>V3</th>\n",
       "      <th>V4</th>\n",
       "      <th>V5</th>\n",
       "      <th>V6</th>\n",
       "      <th>V7</th>\n",
       "      <th>V8</th>\n",
       "      <th>V9</th>\n",
       "      <th>V10</th>\n",
       "      <th>...</th>\n",
       "      <th>V78</th>\n",
       "      <th>V79</th>\n",
       "      <th>V80</th>\n",
       "      <th>V81</th>\n",
       "      <th>V82</th>\n",
       "      <th>V83</th>\n",
       "      <th>V84</th>\n",
       "      <th>V85</th>\n",
       "      <th>V86</th>\n",
       "      <th>Buy</th>\n",
       "    </tr>\n",
       "  </thead>\n",
       "  <tbody>\n",
       "    <tr>\n",
       "      <th>0</th>\n",
       "      <td>1</td>\n",
       "      <td>33</td>\n",
       "      <td>1</td>\n",
       "      <td>3</td>\n",
       "      <td>2</td>\n",
       "      <td>8</td>\n",
       "      <td>0</td>\n",
       "      <td>5</td>\n",
       "      <td>1</td>\n",
       "      <td>3</td>\n",
       "      <td>...</td>\n",
       "      <td>0</td>\n",
       "      <td>0</td>\n",
       "      <td>0</td>\n",
       "      <td>1</td>\n",
       "      <td>0</td>\n",
       "      <td>0</td>\n",
       "      <td>0</td>\n",
       "      <td>0</td>\n",
       "      <td>0</td>\n",
       "      <td>0</td>\n",
       "    </tr>\n",
       "    <tr>\n",
       "      <th>1</th>\n",
       "      <td>2</td>\n",
       "      <td>37</td>\n",
       "      <td>1</td>\n",
       "      <td>2</td>\n",
       "      <td>2</td>\n",
       "      <td>8</td>\n",
       "      <td>1</td>\n",
       "      <td>4</td>\n",
       "      <td>1</td>\n",
       "      <td>4</td>\n",
       "      <td>...</td>\n",
       "      <td>0</td>\n",
       "      <td>0</td>\n",
       "      <td>0</td>\n",
       "      <td>1</td>\n",
       "      <td>0</td>\n",
       "      <td>0</td>\n",
       "      <td>0</td>\n",
       "      <td>0</td>\n",
       "      <td>0</td>\n",
       "      <td>0</td>\n",
       "    </tr>\n",
       "    <tr>\n",
       "      <th>2</th>\n",
       "      <td>3</td>\n",
       "      <td>37</td>\n",
       "      <td>1</td>\n",
       "      <td>2</td>\n",
       "      <td>2</td>\n",
       "      <td>8</td>\n",
       "      <td>0</td>\n",
       "      <td>4</td>\n",
       "      <td>2</td>\n",
       "      <td>4</td>\n",
       "      <td>...</td>\n",
       "      <td>0</td>\n",
       "      <td>0</td>\n",
       "      <td>0</td>\n",
       "      <td>1</td>\n",
       "      <td>0</td>\n",
       "      <td>0</td>\n",
       "      <td>0</td>\n",
       "      <td>0</td>\n",
       "      <td>0</td>\n",
       "      <td>0</td>\n",
       "    </tr>\n",
       "    <tr>\n",
       "      <th>3</th>\n",
       "      <td>4</td>\n",
       "      <td>9</td>\n",
       "      <td>1</td>\n",
       "      <td>3</td>\n",
       "      <td>3</td>\n",
       "      <td>3</td>\n",
       "      <td>2</td>\n",
       "      <td>3</td>\n",
       "      <td>2</td>\n",
       "      <td>4</td>\n",
       "      <td>...</td>\n",
       "      <td>0</td>\n",
       "      <td>0</td>\n",
       "      <td>0</td>\n",
       "      <td>1</td>\n",
       "      <td>0</td>\n",
       "      <td>0</td>\n",
       "      <td>0</td>\n",
       "      <td>0</td>\n",
       "      <td>0</td>\n",
       "      <td>0</td>\n",
       "    </tr>\n",
       "    <tr>\n",
       "      <th>4</th>\n",
       "      <td>6</td>\n",
       "      <td>23</td>\n",
       "      <td>1</td>\n",
       "      <td>2</td>\n",
       "      <td>1</td>\n",
       "      <td>5</td>\n",
       "      <td>0</td>\n",
       "      <td>5</td>\n",
       "      <td>0</td>\n",
       "      <td>5</td>\n",
       "      <td>...</td>\n",
       "      <td>0</td>\n",
       "      <td>0</td>\n",
       "      <td>0</td>\n",
       "      <td>0</td>\n",
       "      <td>0</td>\n",
       "      <td>0</td>\n",
       "      <td>0</td>\n",
       "      <td>0</td>\n",
       "      <td>0</td>\n",
       "      <td>0</td>\n",
       "    </tr>\n",
       "  </tbody>\n",
       "</table>\n",
       "<p>5 rows × 87 columns</p>\n",
       "</div>"
      ],
      "text/plain": [
       "   Id  V2  V3  V4  V5  V6  V7  V8  V9  V10  ...  V78  V79  V80  V81  V82  V83  \\\n",
       "0   1  33   1   3   2   8   0   5   1    3  ...    0    0    0    1    0    0   \n",
       "1   2  37   1   2   2   8   1   4   1    4  ...    0    0    0    1    0    0   \n",
       "2   3  37   1   2   2   8   0   4   2    4  ...    0    0    0    1    0    0   \n",
       "3   4   9   1   3   3   3   2   3   2    4  ...    0    0    0    1    0    0   \n",
       "4   6  23   1   2   1   5   0   5   0    5  ...    0    0    0    0    0    0   \n",
       "\n",
       "   V84  V85  V86  Buy  \n",
       "0    0    0    0    0  \n",
       "1    0    0    0    0  \n",
       "2    0    0    0    0  \n",
       "3    0    0    0    0  \n",
       "4    0    0    0    0  \n",
       "\n",
       "[5 rows x 87 columns]"
      ]
     },
     "execution_count": 42,
     "metadata": {},
     "output_type": "execute_result"
    }
   ],
   "source": [
    "df_train = pd.read_csv(\"train.csv\")\n",
    "df_test = pd.read_csv(\"test.csv\")\n",
    "df_sub = pd.read_csv(\"submission.csv\")\n",
    "df_train.head()"
   ]
  },
  {
   "cell_type": "markdown",
   "id": "11db36ff",
   "metadata": {},
   "source": [
    "## description des variables"
   ]
  },
  {
   "cell_type": "code",
   "execution_count": 43,
   "id": "25253367",
   "metadata": {},
   "outputs": [
    {
     "data": {
      "text/html": [
       "<div>\n",
       "<style scoped>\n",
       "    .dataframe tbody tr th:only-of-type {\n",
       "        vertical-align: middle;\n",
       "    }\n",
       "\n",
       "    .dataframe tbody tr th {\n",
       "        vertical-align: top;\n",
       "    }\n",
       "\n",
       "    .dataframe thead th {\n",
       "        text-align: right;\n",
       "    }\n",
       "</style>\n",
       "<table border=\"1\" class=\"dataframe\">\n",
       "  <thead>\n",
       "    <tr style=\"text-align: right;\">\n",
       "      <th></th>\n",
       "      <th>Id</th>\n",
       "      <th>Predicted</th>\n",
       "    </tr>\n",
       "  </thead>\n",
       "  <tbody>\n",
       "    <tr>\n",
       "      <th>count</th>\n",
       "      <td>1715.000000</td>\n",
       "      <td>1715.0</td>\n",
       "    </tr>\n",
       "    <tr>\n",
       "      <th>mean</th>\n",
       "      <td>2926.630321</td>\n",
       "      <td>1.0</td>\n",
       "    </tr>\n",
       "    <tr>\n",
       "      <th>std</th>\n",
       "      <td>1674.099495</td>\n",
       "      <td>0.0</td>\n",
       "    </tr>\n",
       "    <tr>\n",
       "      <th>min</th>\n",
       "      <td>5.000000</td>\n",
       "      <td>1.0</td>\n",
       "    </tr>\n",
       "    <tr>\n",
       "      <th>25%</th>\n",
       "      <td>1473.500000</td>\n",
       "      <td>1.0</td>\n",
       "    </tr>\n",
       "    <tr>\n",
       "      <th>50%</th>\n",
       "      <td>2940.000000</td>\n",
       "      <td>1.0</td>\n",
       "    </tr>\n",
       "    <tr>\n",
       "      <th>75%</th>\n",
       "      <td>4353.000000</td>\n",
       "      <td>1.0</td>\n",
       "    </tr>\n",
       "    <tr>\n",
       "      <th>max</th>\n",
       "      <td>5821.000000</td>\n",
       "      <td>1.0</td>\n",
       "    </tr>\n",
       "  </tbody>\n",
       "</table>\n",
       "</div>"
      ],
      "text/plain": [
       "                Id  Predicted\n",
       "count  1715.000000     1715.0\n",
       "mean   2926.630321        1.0\n",
       "std    1674.099495        0.0\n",
       "min       5.000000        1.0\n",
       "25%    1473.500000        1.0\n",
       "50%    2940.000000        1.0\n",
       "75%    4353.000000        1.0\n",
       "max    5821.000000        1.0"
      ]
     },
     "execution_count": 43,
     "metadata": {},
     "output_type": "execute_result"
    }
   ],
   "source": [
    "df_sub.describe()"
   ]
  },
  {
   "cell_type": "markdown",
   "id": "bce15816",
   "metadata": {},
   "source": [
    "## selection des variables "
   ]
  },
  {
   "cell_type": "code",
   "execution_count": 44,
   "id": "cbea70e7",
   "metadata": {},
   "outputs": [],
   "source": [
    "# train set\n",
    "X = df_train.iloc[:,1:-1].values\n",
    "ID = df_train.iloc[:,0].values\n",
    "y = df_train.iloc[:,-1].values\n",
    "\n",
    "# test set\n",
    "X_pred = df_test.iloc[:,1:].values\n",
    "ID_pred = df_test.iloc[:,0].values\n",
    "\n",
    "ID_sub = df_sub.iloc[:,0].values\n",
    "y_sub = df_sub.iloc[:,1].values\n",
    "\n",
    "del df_train, df_test, df_sub"
   ]
  },
  {
   "cell_type": "code",
   "execution_count": 45,
   "id": "009f759f",
   "metadata": {},
   "outputs": [],
   "source": [
    "values, count = np.unique(y, return_counts=True)"
   ]
  },
  {
   "cell_type": "code",
   "execution_count": 46,
   "id": "b0cf98aa",
   "metadata": {},
   "outputs": [
    {
     "data": {
      "text/plain": [
       "Text(0, 0.5, '#Count')"
      ]
     },
     "execution_count": 46,
     "metadata": {},
     "output_type": "execute_result"
    },
    {
     "data": {
      "image/png": "[encoded data removed]",
      "text/plain": [
       "<Figure size 720x360 with 1 Axes>"
      ]
     },
     "metadata": {
      "needs_background": "light"
     },
     "output_type": "display_data"
    }
   ],
   "source": [
    "plt.figure(figsize=(10,5))\n",
    "plt.bar(values, count)\n",
    "plt.xlabel(\"Classes\")\n",
    "plt.ylabel(\"#Count\")"
   ]
  },
  {
   "cell_type": "code",
   "execution_count": 47,
   "id": "c2f64c55",
   "metadata": {},
   "outputs": [
    {
     "name": "stdout",
     "output_type": "stream",
     "text": [
      ">> Ratio de la classe 0 est 0.94 \n",
      ">> Ratio de la classe 1 est 0.06 \n"
     ]
    }
   ],
   "source": [
    "print(\">> Ratio de la classe 0 est %.2f \" %(count.max()/count.sum()))\n",
    "print(\">> Ratio de la classe 1 est %.2f \" %(count.min()/count.sum()))"
   ]
  },
  {
   "cell_type": "markdown",
   "id": "8b904af3",
   "metadata": {},
   "source": [
    "### To Do : imbalanced dataset\n",
    "Pour fixer ce probleme, il existe plusieurs méthodes pour améliorer les performances du modèle\n",
    "Dans l'article de [Classification with Imbalanced Data - TDS](https://towardsdatascience.com/classification-with-imbalanced-data-f13ccb0496b3), l'auteur nous propose plusieurs approches pour aborder cette problématique:\n",
    "- Oversampling  --> SMOTE\n",
    "- Undersampling\n",
    "- Combinaison de Oversampling et Undersampling\n",
    "- Custom Filtering and Sampling\n"
   ]
  },
  {
   "cell_type": "markdown",
   "id": "00c2d8b8",
   "metadata": {},
   "source": [
    "### 1 - Oversampling : SMOTE Method"
   ]
  },
  {
   "cell_type": "code",
   "execution_count": 48,
   "id": "39b4f10d",
   "metadata": {},
   "outputs": [],
   "source": [
    "from imblearn.over_sampling import SMOTE\n",
    "\n",
    "# Oversample using SMOTE\n",
    "sm = SMOTE(sampling_strategy=\"minority\" , random_state=42)\n",
    "X_smote, y_smote = sm.fit_resample(X, y)"
   ]
  },
  {
   "cell_type": "code",
   "execution_count": 49,
   "id": "1594ace7",
   "metadata": {},
   "outputs": [
    {
     "data": {
      "text/plain": [
       "Text(0, 0.5, '#Count')"
      ]
     },
     "execution_count": 49,
     "metadata": {},
     "output_type": "execute_result"
    },
    {
     "data": {
      "image/png": "[encoded data removed]",
      "text/plain": [
       "<Figure size 720x360 with 1 Axes>"
      ]
     },
     "metadata": {
      "needs_background": "light"
     },
     "output_type": "display_data"
    }
   ],
   "source": [
    "values, count = np.unique(y_smote, return_counts=True)\n",
    "plt.figure(figsize=(10,5))\n",
    "plt.bar(values, count)\n",
    "plt.xlabel(\"Classes\")\n",
    "plt.ylabel(\"#Count\")"
   ]
  },
  {
   "cell_type": "code",
   "execution_count": 50,
   "id": "d55d6b27",
   "metadata": {},
   "outputs": [
    {
     "name": "stdout",
     "output_type": "stream",
     "text": [
      ">> Ratio de la classe 0 est 0.50 \n",
      ">> Ratio de la classe 1 est 0.50 \n"
     ]
    }
   ],
   "source": [
    "print(\">> Ratio de la classe 0 est %.2f \" %(count.max()/count.sum()))\n",
    "print(\">> Ratio de la classe 1 est %.2f \" %(count.min()/count.sum()))"
   ]
  },
  {
   "cell_type": "markdown",
   "id": "ca36b4e7",
   "metadata": {},
   "source": [
    "### 2 - Undersampling : "
   ]
  },
  {
   "cell_type": "code",
   "execution_count": 51,
   "id": "477c2a41",
   "metadata": {},
   "outputs": [],
   "source": [
    "from imblearn.under_sampling import EditedNearestNeighbours"
   ]
  },
  {
   "cell_type": "code",
   "execution_count": 52,
   "id": "d9228e19",
   "metadata": {},
   "outputs": [],
   "source": [
    "enn = EditedNearestNeighbours()\n",
    "X_enn, y_enn = enn.fit_resample(X, y)"
   ]
  },
  {
   "cell_type": "code",
   "execution_count": 53,
   "id": "c153756a",
   "metadata": {},
   "outputs": [
    {
     "data": {
      "text/plain": [
       "Text(0, 0.5, '#Count')"
      ]
     },
     "execution_count": 53,
     "metadata": {},
     "output_type": "execute_result"
    },
    {
     "data": {
      "image/png": "[encoded data removed]",
      "text/plain": [
       "<Figure size 720x360 with 1 Axes>"
      ]
     },
     "metadata": {
      "needs_background": "light"
     },
     "output_type": "display_data"
    }
   ],
   "source": [
    "values, count = np.unique(y_enn, return_counts=True)\n",
    "plt.figure(figsize=(10,5))\n",
    "plt.bar(values, count)\n",
    "plt.xlabel(\"Classes\")\n",
    "plt.ylabel(\"#Count\")"
   ]
  },
  {
   "cell_type": "code",
   "execution_count": 54,
   "id": "9bb39bd1",
   "metadata": {},
   "outputs": [
    {
     "name": "stdout",
     "output_type": "stream",
     "text": [
      ">> Ratio de la classe 0 est 0.93 \n",
      ">> Ratio de la classe 1 est 0.07 \n"
     ]
    }
   ],
   "source": [
    "print(\">> Ratio de la classe 0 est %.2f \" %(count.max()/count.sum()))\n",
    "print(\">> Ratio de la classe 1 est %.2f \" %(count.min()/count.sum()))"
   ]
  },
  {
   "cell_type": "markdown",
   "id": "8464e46e",
   "metadata": {},
   "source": [
    "### 3- Undersampling + Oversampling"
   ]
  },
  {
   "cell_type": "code",
   "execution_count": 55,
   "id": "3aa685b3",
   "metadata": {},
   "outputs": [],
   "source": [
    "from imblearn.combine import SMOTEENN\n",
    "\n",
    "smoteenn = SMOTEENN(random_state=42)\n",
    "X_smoteenn, y_smoteenn = smoteenn.fit_resample(X, y)"
   ]
  },
  {
   "cell_type": "code",
   "execution_count": 56,
   "id": "713e5793",
   "metadata": {},
   "outputs": [
    {
     "data": {
      "text/plain": [
       "Text(0, 0.5, '#Count')"
      ]
     },
     "execution_count": 56,
     "metadata": {},
     "output_type": "execute_result"
    },
    {
     "data": {
      "image/png": "[encoded data removed]",
      "text/plain": [
       "<Figure size 720x360 with 1 Axes>"
      ]
     },
     "metadata": {
      "needs_background": "light"
     },
     "output_type": "display_data"
    }
   ],
   "source": [
    "values, count = np.unique(y_smoteenn, return_counts=True)\n",
    "plt.figure(figsize=(10,5))\n",
    "plt.bar(values, count)\n",
    "plt.xlabel(\"Classes\")\n",
    "plt.ylabel(\"#Count\")"
   ]
  },
  {
   "cell_type": "code",
   "execution_count": 57,
   "id": "574c19c5",
   "metadata": {},
   "outputs": [
    {
     "name": "stdout",
     "output_type": "stream",
     "text": [
      ">> Ratio de la classe 0 est 0.44 \n",
      ">> Ratio de la classe 1 est 0.56 \n"
     ]
    }
   ],
   "source": [
    "print(\">> Ratio de la classe 0 est %.2f \" %(count.min()/count.sum()))\n",
    "print(\">> Ratio de la classe 1 est %.2f \" %(count.max()/count.sum()))"
   ]
  },
  {
   "cell_type": "markdown",
   "id": "3b92ae00",
   "metadata": {},
   "source": [
    "**Preprocessing dataset**"
   ]
  },
  {
   "cell_type": "code",
   "execution_count": 58,
   "id": "ded4f789",
   "metadata": {},
   "outputs": [],
   "source": [
    "from sklearn.neural_network import MLPClassifier\n",
    "from sklearn.linear_model import LogisticRegression\n",
    "from sklearn.model_selection import train_test_split, cross_val_score\n",
    "from sklearn.preprocessing import MinMaxScaler\n",
    "from sklearn.svm import SVC\n",
    "from sklearn.metrics import confusion_matrix, ConfusionMatrixDisplay"
   ]
  },
  {
   "cell_type": "code",
   "execution_count": 59,
   "id": "d959182f",
   "metadata": {},
   "outputs": [],
   "source": [
    "#scaler = MinMaxScaler()\n",
    "#X_train, X_test, y_train, y_test = train_test_split(X, y, stratify=y, random_state=12)\n",
    "#X_train = scaler.fit_transform(X_train)\n",
    "#X_test = scaler.transform(X_test)"
   ]
  },
  {
   "cell_type": "code",
   "execution_count": 60,
   "id": "42cd393f",
   "metadata": {},
   "outputs": [
    {
     "name": "stdout",
     "output_type": "stream",
     "text": [
      "Test Accuracy 0.986 (0.034)\n"
     ]
    }
   ],
   "source": [
    "# Techniques \n",
    "\n",
    "mode = \"SMOTEENN\"\n",
    "#mode = \"ENN\"\n",
    "#mode = \"SMOTE\"\n",
    "#mode = \"None\"\n",
    "if mode == \"ENN\" :\n",
    "    #X_sc = scaler.fit_transform(X_enn)\n",
    "    X_sc = X_enn\n",
    "    y_sc = y_enn\n",
    "elif mode == \"SMOTE\" :\n",
    "    #X_sc = scaler.fit_transform(X_smote)\n",
    "    X_sc = X_smote\n",
    "    y_sc = y_smote\n",
    "elif mode == \"SMOTEENN\":\n",
    "    #X_sc = scaler.fit_transform(X_smoteenn)\n",
    "    X_sc = X_smoteenn\n",
    "    y_sc = y_smoteenn\n",
    "else :\n",
    "    X_sc = X\n",
    "    y_sc = y\n",
    "\n",
    "##  Model\n",
    "#clf = MLPClassifier(hidden_layer_sizes=(100), max_iter=300)\n",
    "clf = SVC(C=10000, gamma='auto')\n",
    "#clf = LogisticRegression()\n",
    "\n",
    "# Evaluation the model\n",
    "n_cv = 10 # nombre de cross validation\n",
    "scores = cross_val_score(clf, X_sc, y_sc, cv=n_cv)\n",
    "print(\"Test Accuracy %0.3f (%0.3f)\" % (scores.mean(), scores.std()))\n",
    "\n",
    "# predict test label\n",
    "clf.fit(X_sc, y_sc)\n",
    "#X_pred_sc = scaler.transform(X_pred)\n",
    "X_pred_sc = X_pred\n",
    "\n",
    "#idx = np.where(ID_pred==ID_sub)[0]"
   ]
  },
  {
   "cell_type": "code",
   "execution_count": 61,
   "id": "22afa212",
   "metadata": {},
   "outputs": [
    {
     "data": {
      "text/plain": [
       "<sklearn.metrics._plot.confusion_matrix.ConfusionMatrixDisplay at 0x1a0644c4d08>"
      ]
     },
     "execution_count": 61,
     "metadata": {},
     "output_type": "execute_result"
    },
    {
     "data": {
      "image/png": "[encoded data removed]",
      "text/plain": [
       "<Figure size 432x288 with 2 Axes>"
      ]
     },
     "metadata": {
      "needs_background": "light"
     },
     "output_type": "display_data"
    }
   ],
   "source": [
    "# Training set\n",
    "y_hat=clf.predict(X_sc)\n",
    "cm = confusion_matrix(y_sc, y_hat, labels=clf.classes_)\n",
    "# plot\n",
    "disp = ConfusionMatrixDisplay(confusion_matrix=cm, display_labels=clf.classes_)\n",
    "disp.plot(cmap='BuPu')"
   ]
  },
  {
   "cell_type": "markdown",
   "id": "c0b44511",
   "metadata": {},
   "source": [
    "**Submission Set**"
   ]
  },
  {
   "cell_type": "code",
   "execution_count": 62,
   "id": "b950855d",
   "metadata": {},
   "outputs": [
    {
     "name": "stdout",
     "output_type": "stream",
     "text": [
      ">> Test Accuracy 0.117\n"
     ]
    }
   ],
   "source": [
    "print(\">> Test Accuracy %.3f\" %clf.score(X_pred_sc, y_sub))"
   ]
  },
  {
   "cell_type": "code",
   "execution_count": 63,
   "id": "d3dc7188",
   "metadata": {},
   "outputs": [
    {
     "data": {
      "text/plain": [
       "<sklearn.metrics._plot.confusion_matrix.ConfusionMatrixDisplay at 0x1a0642bbac8>"
      ]
     },
     "execution_count": 63,
     "metadata": {},
     "output_type": "execute_result"
    },
    {
     "data": {
      "image/png": "[encoded data removed]",
      "text/plain": [
       "<Figure size 432x288 with 2 Axes>"
      ]
     },
     "metadata": {
      "needs_background": "light"
     },
     "output_type": "display_data"
    }
   ],
   "source": [
    "y_pred=clf.predict(X_pred_sc)\n",
    "\n",
    "cm = confusion_matrix(y_sub, y_pred, labels=clf.classes_)\n",
    "# plot\n",
    "disp = ConfusionMatrixDisplay(confusion_matrix=cm, display_labels=clf.classes_)\n",
    "disp.plot(cmap='BuPu')"
   ]
  },
  {
   "cell_type": "markdown",
   "id": "fec4f065",
   "metadata": {},
   "source": [
    "### 4 - Custom Sampling + Smote"
   ]
  },
  {
   "cell_type": "code",
   "execution_count": 64,
   "id": "546b0b55",
   "metadata": {},
   "outputs": [
    {
     "name": "stdout",
     "output_type": "stream",
     "text": [
      "Test Accuracy 0.920 (0.012)\n"
     ]
    }
   ],
   "source": [
    "from sklearn.preprocessing import StandardScaler\n",
    "from sklearn.neighbors import KNeighborsClassifier\n",
    "\n",
    "# Scale Features\n",
    "scaler = StandardScaler()\n",
    "X_scaled = scaler.fit_transform(X_sc)\n",
    "\n",
    "# Fit KNN\n",
    "knn = KNeighborsClassifier(n_neighbors=7)\n",
    "knn.fit(X_scaled, y_sc)\n",
    "\n",
    "n_cv = 10 # nombre de cross validation\n",
    "scores = cross_val_score(knn, X_scaled, y_sc, cv=n_cv)\n",
    "print(\"Test Accuracy %0.3f (%0.3f)\" % (scores.mean(), scores.std()))"
   ]
  },
  {
   "cell_type": "code",
   "execution_count": 65,
   "id": "84643260",
   "metadata": {},
   "outputs": [
    {
     "data": {
      "text/plain": [
       "<sklearn.metrics._plot.confusion_matrix.ConfusionMatrixDisplay at 0x1a064503088>"
      ]
     },
     "execution_count": 65,
     "metadata": {},
     "output_type": "execute_result"
    },
    {
     "data": {
      "image/png": "[encoded data removed]",
      "text/plain": [
       "<Figure size 432x288 with 2 Axes>"
      ]
     },
     "metadata": {
      "needs_background": "light"
     },
     "output_type": "display_data"
    }
   ],
   "source": [
    "X_pred_sc = scaler.transform(X_pred)\n",
    "# Training set\n",
    "y_hat=knn.predict(X_scaled)\n",
    "cm = confusion_matrix(y_sc, y_hat, labels=knn.classes_)\n",
    "# plot\n",
    "disp = ConfusionMatrixDisplay(confusion_matrix=cm, display_labels=knn.classes_)\n",
    "disp.plot(cmap='BuPu')"
   ]
  },
  {
   "cell_type": "code",
   "execution_count": 66,
   "id": "23226338",
   "metadata": {},
   "outputs": [
    {
     "name": "stdout",
     "output_type": "stream",
     "text": [
      ">> Test Accuracy 0.300\n"
     ]
    }
   ],
   "source": [
    "print(\">> Test Accuracy %.3f\" %knn.score(X_pred_sc, y_sub))"
   ]
  },
  {
   "cell_type": "code",
   "execution_count": 67,
   "id": "59425fae",
   "metadata": {},
   "outputs": [
    {
     "data": {
      "text/plain": [
       "<sklearn.metrics._plot.confusion_matrix.ConfusionMatrixDisplay at 0x1a063f730c8>"
      ]
     },
     "execution_count": 67,
     "metadata": {},
     "output_type": "execute_result"
    },
    {
     "data": {
      "image/png": "[encoded data removed]",
      "text/plain": [
       "<Figure size 432x288 with 2 Axes>"
      ]
     },
     "metadata": {
      "needs_background": "light"
     },
     "output_type": "display_data"
    }
   ],
   "source": [
    "y_pred=knn.predict(X_pred_sc)\n",
    "\n",
    "cm = confusion_matrix(y_sub, y_pred, labels=knn.classes_)\n",
    "# plot\n",
    "disp = ConfusionMatrixDisplay(confusion_matrix=cm, display_labels=knn.classes_)\n",
    "disp.plot(cmap='BuPu')"
   ]
  }
 ],
 "metadata": {
  "kernelspec": {
   "display_name": "Python 3 (ipykernel)",
   "language": "python",
   "name": "python3"
  },
  "language_info": {
   "codemirror_mode": {
    "name": "ipython",
    "version": 3
   },
   "file_extension": ".py",
   "mimetype": "text/x-python",
   "name": "python",
   "nbconvert_exporter": "python",
   "pygments_lexer": "ipython3",
   "version": "3.7.11"
  }
 },
 "nbformat": 4,
 "nbformat_minor": 5
}
