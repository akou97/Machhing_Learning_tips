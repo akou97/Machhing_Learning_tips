{
 "cells": [
  {
   "cell_type": "markdown",
   "id": "8b4bb565",
   "metadata": {},
   "source": [
    "Ici, nous allons rappeler quelques definitions des indicateurs statistiques les plus utilisés pour la régressions"
   ]
  },
  {
   "cell_type": "code",
   "execution_count": 14,
   "id": "8a0da9b8",
   "metadata": {},
   "outputs": [],
   "source": [
    "from math import sqrt"
   ]
  },
  {
   "cell_type": "code",
   "execution_count": 1,
   "id": "1455d3b0",
   "metadata": {},
   "outputs": [],
   "source": [
    "# on considere une liste des notes de deux matieres : Physique et math\n",
    "Note = {'Physique': [15,12,8,8,7,7,7,6,5,3],\n",
    "        'Math': [10,25,17,11,13,17,20,13,9,15] }"
   ]
  },
  {
   "cell_type": "code",
   "execution_count": 3,
   "id": "477c8624",
   "metadata": {},
   "outputs": [
    {
     "data": {
      "text/plain": [
       "dict_keys(['Physique', 'Math'])"
      ]
     },
     "execution_count": 3,
     "metadata": {},
     "output_type": "execute_result"
    }
   ],
   "source": [
    "Note.keys()"
   ]
  },
  {
   "cell_type": "markdown",
   "id": "2823f94b",
   "metadata": {},
   "source": [
    "**Coefficient de Karl Pearson** : pour voir l'expression de ce coefficient  [Tapez ici](https://en.wikipedia.org/wiki/Pearson_correlation_coefficient)\n",
    "\n",
    "It is a measure of linear correlation between two sets of data\n",
    "\n"
   ]
  },
  {
   "cell_type": "code",
   "execution_count": 12,
   "id": "cdf3f2b6",
   "metadata": {},
   "outputs": [],
   "source": [
    "# calculer la moyenne de chaque variable\n",
    "x_m = sum(Note['Physique'])/len(Note['Physique'])\n",
    "y_m = sum(Note['Math'])/len(Note['Math'])\n",
    "taille = len(Note['Math'])                                      "
   ]
  },
  {
   "cell_type": "code",
   "execution_count": 15,
   "id": "1488b406",
   "metadata": {},
   "outputs": [],
   "source": [
    "# calcule co-variance et l'ecart-type des deux variables\n",
    "cov = sum([(Note['Physique'][i]-x_m)*(Note['Math'][i]-y_m) for i in range(taille)])\n",
    "et_x = sqrt(sum([(Note['Physique'][i]-x_m)**2 for i in range(taille)]))\n",
    "et_y = sqrt(sum([(Note['Math'][i]-y_m)**2 for i in range(taille)]))"
   ]
  },
  {
   "cell_type": "code",
   "execution_count": 19,
   "id": "f97e720a",
   "metadata": {},
   "outputs": [
    {
     "name": "stdout",
     "output_type": "stream",
     "text": [
      "le coefficien de Pearson est 0.145\n"
     ]
    }
   ],
   "source": [
    "print('le coefficien de Pearson est %.3f' % (cov/(et_x*et_y)))"
   ]
  },
  {
   "cell_type": "markdown",
   "id": "07a8922e",
   "metadata": {},
   "source": [
    "**slope of the line of regression** pour voir l'expression de ce coefficient  [Tapez ici](https://en.wikipedia.org/wiki/Simple_linear_regression) "
   ]
  },
  {
   "cell_type": "code",
   "execution_count": 21,
   "id": "f963a3aa",
   "metadata": {},
   "outputs": [
    {
     "name": "stdout",
     "output_type": "stream",
     "text": [
      "Slope est 0.208\n"
     ]
    }
   ],
   "source": [
    "rxy = cov/(et_x*et_y)\n",
    "print('Slope est %.3f' % (rxy*et_y/et_x))"
   ]
  },
  {
   "cell_type": "markdown",
   "id": "823a8da7",
   "metadata": {},
   "source": [
    "donc on peut écrire le model lineaire sous la forme : y = a + bx"
   ]
  },
  {
   "cell_type": "code",
   "execution_count": 22,
   "id": "c9d4013c",
   "metadata": {},
   "outputs": [],
   "source": [
    "b = rxy*et_y/et_x\n",
    "a = y_m - b* x_m"
   ]
  },
  {
   "cell_type": "markdown",
   "id": "f8402554",
   "metadata": {},
   "source": [
    "When a student scores 10 in Physics, what is his probable score in Math?"
   ]
  },
  {
   "cell_type": "code",
   "execution_count": 23,
   "id": "d7979d87",
   "metadata": {},
   "outputs": [
    {
     "name": "stdout",
     "output_type": "stream",
     "text": [
      "His probable score in Math is 15.46\n"
     ]
    }
   ],
   "source": [
    "x_0 = 10\n",
    "y_0 = a + b * x_0\n",
    "print('His probable score in Math is %.2f' % y_0)"
   ]
  },
  {
   "cell_type": "markdown",
   "id": "8c2e1591",
   "metadata": {},
   "source": [
    "**The two regression lines of a bivariate distribution :**\n",
    "\n",
    "\n",
    "4x – 5y + 33 = 0 (line of y on x) --> y = f(x) \n",
    "\n",
    "20x – 9y – 107 = 0 (line of x on y) --> x = g(y)\n",
    "\n",
    "Estimer la valeur de x si y = 7"
   ]
  },
  {
   "cell_type": "code",
   "execution_count": 24,
   "id": "b160d52f",
   "metadata": {},
   "outputs": [
    {
     "name": "stdout",
     "output_type": "stream",
     "text": [
      "x vaut 8.500\n"
     ]
    }
   ],
   "source": [
    "# facile on va utiliser le deuxieme equ\n",
    "y = 7\n",
    "x = (9*y + 107)/20\n",
    "print(\"x vaut %.3f\" %x)"
   ]
  },
  {
   "cell_type": "markdown",
   "id": "894e7336",
   "metadata": {},
   "source": [
    "avec les mêmes deux lignes de regressions, on va chercher la variance de y si et_x = 3.0\n"
   ]
  },
  {
   "cell_type": "markdown",
   "id": "67ed71b6",
   "metadata": {},
   "source": [
    "on sait bien que une equation de regression lineaire s'écrit sous la forme:\n",
    "\n",
    "y - ay - by*x = 0\n",
    "\n",
    "x - ax - bx*y = 0\n",
    "\n",
    "avec by = cov(x, y)/ (et_x** 2)\n",
    "\n",
    "et   bx = cov(y, x)/ (et_y** 2)\n",
    "\n",
    "or cov(x, y) = cov(y, x)  --> bx / by = (et_y** 2) / (et_x** 2)\n",
    "\n",
    "ainsi var(y) = (et_y** 2) = bx / by * (et_x** 2)"
   ]
  },
  {
   "cell_type": "code",
   "execution_count": 25,
   "id": "491bbb21",
   "metadata": {},
   "outputs": [
    {
     "name": "stdout",
     "output_type": "stream",
     "text": [
      "la variance de y vaut 3.24\n"
     ]
    }
   ],
   "source": [
    "bx = 9/20\n",
    "by = 5/4\n",
    "et_x = 3.0\n",
    "\n",
    "var_y = bx / by * (et_x** 2)\n",
    "print('la variance de y vaut %.2f' %var_y)"
   ]
  },
  {
   "cell_type": "code",
   "execution_count": null,
   "id": "7eaae5bc",
   "metadata": {},
   "outputs": [],
   "source": []
  }
 ],
 "metadata": {
  "kernelspec": {
   "display_name": "Python 3 (ipykernel)",
   "language": "python",
   "name": "python3"
  },
  "language_info": {
   "codemirror_mode": {
    "name": "ipython",
    "version": 3
   },
   "file_extension": ".py",
   "mimetype": "text/x-python",
   "name": "python",
   "nbconvert_exporter": "python",
   "pygments_lexer": "ipython3",
   "version": "3.7.11"
  }
 },
 "nbformat": 4,
 "nbformat_minor": 5
}
