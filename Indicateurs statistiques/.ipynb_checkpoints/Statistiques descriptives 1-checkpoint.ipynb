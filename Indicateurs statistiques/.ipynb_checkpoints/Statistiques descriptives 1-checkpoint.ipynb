{
 "cells": [
  {
   "cell_type": "markdown",
   "id": "c23af1f4",
   "metadata": {},
   "source": [
    "Statistiques descriptives unidimensionnelles"
   ]
  },
  {
   "cell_type": "markdown",
   "id": "94df0185",
   "metadata": {},
   "source": [
    "Notre but est de traiter de données statistiques unidimensionnelles, pour lesquelles il faudra déterminer des indicateurs élémentaires (moyenne, écart type, médiane, ...) et donner des représentations graphiques comme par exemple des camemberts, des histogrammes, et des boîtes à moustaches). \n",
    "\n",
    "L’objectif des exercices proposés est d’apporter une première compréhension de l’information véhiculée par les données à travers ces indicateurs et représentations."
   ]
  },
  {
   "cell_type": "markdown",
   "id": "bea58805",
   "metadata": {},
   "source": [
    "**Lancés d’un dé**\n",
    "\n",
    "On commence par une expérience de lancé d'un Dé, on va représenter par un camembert la répartition des\n",
    "valeurs prises par un dé lancé n fois. "
   ]
  },
  {
   "cell_type": "code",
   "execution_count": 1,
   "id": "f4912485",
   "metadata": {},
   "outputs": [],
   "source": [
    "lesValeursDeN = [10, 20, 50, 100, 500, 2000] # les valeurs de nombres de lances\n",
    "lesValeursDeN_label = [str(i) for i in lesValeursDeN] # labelisation nombre de lances\n",
    "etiquettes = ['face '+str(i) for i in range(1, 7)]   # labe "
   ]
  },
  {
   "cell_type": "code",
   "execution_count": null,
   "id": "b5736465",
   "metadata": {},
   "outputs": [],
   "source": []
  },
  {
   "cell_type": "code",
   "execution_count": null,
   "id": "17657363",
   "metadata": {},
   "outputs": [],
   "source": [
    "# pour la mise en forme des cambembert \n",
    "nbC = np.ceil(np.sqrt(len(lesValeursDeN)))  # nombre de colonnes\n",
    "nbL = np.ceil(len(lesValeursDeN)/nbC)       # nombre de lignes"
   ]
  }
 ],
 "metadata": {
  "kernelspec": {
   "display_name": "Python 3 (ipykernel)",
   "language": "python",
   "name": "python3"
  },
  "language_info": {
   "codemirror_mode": {
    "name": "ipython",
    "version": 3
   },
   "file_extension": ".py",
   "mimetype": "text/x-python",
   "name": "python",
   "nbconvert_exporter": "python",
   "pygments_lexer": "ipython3",
   "version": "3.7.11"
  }
 },
 "nbformat": 4,
 "nbformat_minor": 5
}
