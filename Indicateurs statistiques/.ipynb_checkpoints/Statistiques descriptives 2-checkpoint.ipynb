{
 "cells": [
  {
   "cell_type": "markdown",
   "id": "f696405a",
   "metadata": {},
   "source": [
    "Ici, nous allons rappeler quelques definitions des indicateurs statistiques les plus utilisés pour la régressions"
   ]
  },
  {
   "cell_type": "code",
   "execution_count": 14,
   "id": "d91069de",
   "metadata": {},
   "outputs": [],
   "source": [
    "from math import sqrt"
   ]
  },
  {
   "cell_type": "code",
   "execution_count": 1,
   "id": "e85fd644",
   "metadata": {},
   "outputs": [],
   "source": [
    "# on considere une liste des notes de deux matieres : Physique et math\n",
    "Note = {'Physique': [15,12,8,8,7,7,7,6,5,3],\n",
    "        'Math': [10,25,17,11,13,17,20,13,9,15] }"
   ]
  },
  {
   "cell_type": "code",
   "execution_count": 3,
   "id": "5cafb955",
   "metadata": {},
   "outputs": [
    {
     "data": {
      "text/plain": [
       "dict_keys(['Physique', 'Math'])"
      ]
     },
     "execution_count": 3,
     "metadata": {},
     "output_type": "execute_result"
    }
   ],
   "source": [
    "Note.keys()"
   ]
  },
  {
   "cell_type": "markdown",
   "id": "9974ed84",
   "metadata": {},
   "source": [
    "**Coefficient de Karl Pearson** : pour voir l'expression de ce coefficient  [Tapez ici](https://en.wikipedia.org/wiki/Pearson_correlation_coefficient)\n",
    "\n",
    "It is a measure of linear correlation between two sets of data\n",
    "\n"
   ]
  },
  {
   "cell_type": "code",
   "execution_count": 12,
   "id": "4d1a0eb4",
   "metadata": {},
   "outputs": [],
   "source": [
    "# calculer la moyenne de chaque variable\n",
    "x_m = sum(Note['Physique'])/len(Note['Physique'])\n",
    "y_m = sum(Note['Math'])/len(Note['Math'])\n",
    "taille = len(Note['Math'])                                      "
   ]
  },
  {
   "cell_type": "code",
   "execution_count": 15,
   "id": "d53027b5",
   "metadata": {},
   "outputs": [],
   "source": [
    "# calcule co-variance et l'ecart-type des deux variables\n",
    "cov = sum([(Note['Physique'][i]-x_m)*(Note['Math'][i]-y_m) for i in range(taille)])\n",
    "et_x = sqrt(sum([(Note['Physique'][i]-x_m)**2 for i in range(taille)]))\n",
    "et_y = sqrt(sum([(Note['Math'][i]-y_m)**2 for i in range(taille)]))"
   ]
  },
  {
   "cell_type": "code",
   "execution_count": 19,
   "id": "8b4b6b1e",
   "metadata": {},
   "outputs": [
    {
     "name": "stdout",
     "output_type": "stream",
     "text": [
      "le coefficien de Pearson est 0.145\n"
     ]
    }
   ],
   "source": [
    "print('le coefficien de Pearson est %.3f' % (cov/(et_x*et_y)))"
   ]
  },
  {
   "cell_type": "markdown",
   "id": "fadf955d",
   "metadata": {},
   "source": [
    "**slope of the line of regression** pour voir l'expression de ce coefficient  [Tapez ici](https://en.wikipedia.org/wiki/Simple_linear_regression) "
   ]
  },
  {
   "cell_type": "code",
   "execution_count": 21,
   "id": "7cb7f332",
   "metadata": {},
   "outputs": [
    {
     "name": "stdout",
     "output_type": "stream",
     "text": [
      "Slope est 0.208\n"
     ]
    }
   ],
   "source": [
    "rxy = cov/(et_x*et_y)\n",
    "print('Slope est %.3f' % (rxy*et_y/et_x))"
   ]
  },
  {
   "cell_type": "markdown",
   "id": "b770de7e",
   "metadata": {},
   "source": [
    "donc on peut écrire le model lineaire sous la forme : y = a + bx"
   ]
  },
  {
   "cell_type": "code",
   "execution_count": 22,
   "id": "374369ce",
   "metadata": {},
   "outputs": [],
   "source": [
    "b = rxy*et_y/et_x\n",
    "a = y_m - b* x_m"
   ]
  },
  {
   "cell_type": "markdown",
   "id": "5726ac1b",
   "metadata": {},
   "source": [
    "When a student scores 10 in Physics, what is his probable score in Math?"
   ]
  },
  {
   "cell_type": "code",
   "execution_count": 23,
   "id": "86e3abda",
   "metadata": {},
   "outputs": [
    {
     "name": "stdout",
     "output_type": "stream",
     "text": [
      "His probable score in Math is 15.46\n"
     ]
    }
   ],
   "source": [
    "x_0 = 10\n",
    "y_0 = a + b * x_0\n",
    "print('His probable score in Math is %.2f' % y_0)"
   ]
  },
  {
   "cell_type": "markdown",
   "id": "e0b0d0b2",
   "metadata": {},
   "source": [
    "**The two regression lines of a bivariate distribution :**\n",
    "\n",
    "\n",
    "4x – 5y + 33 = 0 (line of y on x) --> y = f(x) \n",
    "\n",
    "20x – 9y – 107 = 0 (line of x on y) --> x = g(y)\n",
    "\n",
    "Estimer la valeur de x si y = 7"
   ]
  },
  {
   "cell_type": "code",
   "execution_count": 24,
   "id": "fcc15aab",
   "metadata": {},
   "outputs": [
    {
     "name": "stdout",
     "output_type": "stream",
     "text": [
      "x vaut 8.500\n"
     ]
    }
   ],
   "source": [
    "# facile on va utiliser le deuxieme equ\n",
    "y = 7\n",
    "x = (9*y + 107)/20\n",
    "print(\"x vaut %.3f\" %x)"
   ]
  },
  {
   "cell_type": "markdown",
   "id": "780277e6",
   "metadata": {},
   "source": [
    "avec les mêmes de"
   ]
  },
  {
   "cell_type": "code",
   "execution_count": null,
   "id": "ed41dd86",
   "metadata": {},
   "outputs": [],
   "source": []
  },
  {
   "cell_type": "code",
   "execution_count": null,
   "id": "662a5c87",
   "metadata": {},
   "outputs": [],
   "source": []
  }
 ],
 "metadata": {
  "kernelspec": {
   "display_name": "Python 3 (ipykernel)",
   "language": "python",
   "name": "python3"
  },
  "language_info": {
   "codemirror_mode": {
    "name": "ipython",
    "version": 3
   },
   "file_extension": ".py",
   "mimetype": "text/x-python",
   "name": "python",
   "nbconvert_exporter": "python",
   "pygments_lexer": "ipython3",
   "version": "3.7.11"
  }
 },
 "nbformat": 4,
 "nbformat_minor": 5
}
